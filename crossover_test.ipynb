{
 "cells": [
  {
   "cell_type": "code",
   "execution_count": 1,
   "metadata": {},
   "outputs": [],
   "source": [
    "\n",
    "# Re-import dependencies (in case earlier import was skipped)\n",
    "import numpy as np\n",
    "import matplotlib.pyplot as plt\n",
    "import pandas as pd\n",
    "\n",
    "from permutationsga.ga import (\n",
    "    ConfigurableGA,\n",
    "\n",
    "    RandomPermutationInitialization,\n",
    "    crossover_pmx,\n",
    "    TournamentSelection,\n",
    "    FunctionBasedRecombinator,\n",
    "    SequentialSelector,\n",
    "    generate_sequential_indices,\n",
    "    \n",
    "    \n",
    ")\n",
    "from permutationsga.problem import IdenticalDecoder, InvPermDecoder, RandomKeysDecoder\n",
    "\n",
    "from permutationsga.qap import QAP, read_qaplib\n",
    "from mutation_initialization.frequency_based_initialization import FrequencyBasedInitialization\n",
    "from our_other_crossover.linkage_based_crossover import LinkageBasedCrossover\n",
    "from our_other_crossover.region_based_crossover import RegionBasedCrossover"
   ]
  },
  {
   "cell_type": "code",
   "execution_count": 2,
   "metadata": {},
   "outputs": [],
   "source": [
    "# The bur* instances are those that we will be using - note that we are only using 26 keys in this case.\n",
    "problem = QAP(*read_qaplib(\"./instances/qap/bur26a.dat\"))"
   ]
  },
  {
   "cell_type": "code",
   "execution_count": 3,
   "metadata": {},
   "outputs": [
    {
     "name": "stdout",
     "output_type": "stream",
     "text": [
      "type: 0, high frequency characters: [ 7 18  0 19 17  8 13  4]\n"
     ]
    }
   ],
   "source": [
    "distance_matrix = problem.A\n",
    "frequency_matrix = problem.B\n",
    "\n",
    "if distance_matrix[0][0] == 53:\n",
    "    type = 0\n",
    "if distance_matrix[0][0] == 37:\n",
    "    type = 1\n",
    "else:\n",
    "    Exception(\"The distance matrix is not as expected\")\n",
    "\n",
    "row_sum = np.sum(frequency_matrix, axis = 1)\n",
    "col_sum = np.sum(frequency_matrix, axis = 0)\n",
    "frequencies = np.add(row_sum, col_sum)\n",
    "high_frequency = np.argsort(frequencies)[-8:]\n",
    "print(f\"type: {type}, high frequency characters: {high_frequency}\")"
   ]
  },
  {
   "cell_type": "code",
   "execution_count": 4,
   "metadata": {},
   "outputs": [
    {
     "name": "stdout",
     "output_type": "stream",
     "text": [
      "[18 17 16 12 10 11  9 13]\n"
     ]
    }
   ],
   "source": [
    "row_sum = np.sum(distance_matrix, axis = 1)\n",
    "col_sum = np.sum(distance_matrix, axis = 0)\n",
    "distances = np.add(row_sum, col_sum)\n",
    "better_region = np.argsort(distances)[:8]\n",
    "print(better_region)"
   ]
  },
  {
   "cell_type": "code",
   "execution_count": 5,
   "metadata": {},
   "outputs": [],
   "source": [
    "problem = IdenticalDecoder(problem) "
   ]
  },
  {
   "attachments": {},
   "cell_type": "markdown",
   "metadata": {},
   "source": [
    "Recombine & Select (repeat a few times to see how things evolve!):"
   ]
  },
  {
   "cell_type": "code",
   "execution_count": 6,
   "metadata": {},
   "outputs": [],
   "source": [
    "def pass_matrices_to_crossover():\n",
    "    return frequency_matrix, distance_matrix"
   ]
  },
  {
   "cell_type": "code",
   "execution_count": null,
   "metadata": {},
   "outputs": [],
   "source": [
    "differences = []\n",
    "p = 1e-2\n",
    "seed = 42\n",
    "population_size = 2**11\n",
    "rng = np.random.default_rng(seed=seed + 1)\n",
    "l = problem.get_length()\n",
    "\n",
    "\n",
    "#crossover_fn = LinkageBasedCrossover().linkage_based_crossover\n",
    "crossover_fn = RegionBasedCrossover().region_based_crossover\n",
    "#initialization = FrequencyBasedInitialization(p, type, high_frequency)\n",
    "initialization = RandomPermutationInitialization(l)\n",
    "indices_gen = pass_matrices_to_crossover  # so that it gets passed to the crossover function\n",
    "parent_selection = SequentialSelector()\n",
    "recombinator = FunctionBasedRecombinator(\n",
    "    indices_gen,\n",
    "    crossover_fn,\n",
    "    parent_selection,\n",
    "    population_size * 2, # Note: double as we are including the previous population\n",
    "    include_what=\"population\"\n",
    ")\n",
    "selection = TournamentSelection()\n",
    "ga = ConfigurableGA(\n",
    "    seed, population_size, problem, initialization, recombinator, selection\n",
    ")\n"
   ]
  },
  {
   "cell_type": "code",
   "execution_count": null,
   "metadata": {},
   "outputs": [],
   "source": [
    "i=0\n",
    "while True:\n",
    "    ga.generation()\n",
    "    differences.append(max(s.f for s in ga.population) - min(s.f for s in ga.population))\n",
    "    if differences[-1] == 0:\n",
    "        break\n",
    "    i+=1 "
   ]
  },
  {
   "cell_type": "code",
   "execution_count": null,
   "metadata": {},
   "outputs": [],
   "source": [
    "# plot the differences in plt.line\n",
    "plt.plot(differences)"
   ]
  },
  {
   "cell_type": "code",
   "execution_count": null,
   "metadata": {},
   "outputs": [],
   "source": [
    "print(len(differences))"
   ]
  },
  {
   "cell_type": "code",
   "execution_count": null,
   "metadata": {},
   "outputs": [],
   "source": [
    "# Current best & worst\n",
    "min(s.f for s in ga.population), max(s.f for s in ga.population)"
   ]
  },
  {
   "cell_type": "code",
   "execution_count": null,
   "metadata": {},
   "outputs": [],
   "source": [
    "# print the genotype of the best\n",
    "print(ga.population[np.argmin(s.f for s in ga.population)].e)"
   ]
  },
  {
   "attachments": {},
   "cell_type": "markdown",
   "metadata": {},
   "source": [
    "## Evaluating Linkage Based Crossover"
   ]
  },
  {
   "cell_type": "code",
   "execution_count": null,
   "metadata": {},
   "outputs": [],
   "source": [
    "from configs        import EA_Config, Exp_Config, rng, l\n",
    "from run_experiment import run_experiments, round_to_multiple\n",
    "from math       import ceil\n",
    "\n",
    "\n",
    "p = 1e-2\n",
    "\n",
    "EA_Config(crossover_fn=crossover_pmx, indices_gen=lambda: generate_sequential_indices(rng, l), initialization=RandomPermutationInitialization(l))\n",
    "EA_Config(crossover_fn=crossover_pmx, indices_gen=lambda: generate_sequential_indices(rng, l), initialization=FrequencyBasedInitialization(p, type, high_frequency, better_region))\n",
    "EA_Config(crossover_fn=LinkageBasedCrossover().linkage_based_crossover, indices_gen=pass_matrices_to_crossover, initialization=RandomPermutationInitialization(l))\n",
    "EA_Config(crossover_fn=LinkageBasedCrossover().linkage_based_crossover, indices_gen=pass_matrices_to_crossover, initialization=FrequencyBasedInitialization(p, type, high_frequency, better_region))\n",
    "\n",
    "setups = {\n",
    "    \"Baseline\"    : EA_Config(crossover_fn=crossover_pmx, indices_gen=lambda: generate_sequential_indices(rng, l), initialization=RandomPermutationInitialization(l))\n",
    ",\n",
    "\"Custom Initialisation\" : EA_Config(crossover_fn=crossover_pmx, indices_gen=lambda: generate_sequential_indices(rng, l), initialization=FrequencyBasedInitialization(p, type, high_frequency, better_region))\n",
    ", \"Linkage Based Crossover Crossover\" : EA_Config(crossover_fn=LinkageBasedCrossover().linkage_based_crossover, indices_gen=pass_matrices_to_crossover, initialization=RandomPermutationInitialization(l))\n",
    ", \"Custom Initialisation and Linkage Based Crossover\" : EA_Config(crossover_fn=LinkageBasedCrossover().linkage_based_crossover, indices_gen=pass_matrices_to_crossover, initialization=FrequencyBasedInitialization(p, type, high_frequency, better_region))\n",
    "}\n",
    "\n",
    "exp_cfg = Exp_Config(\"crossover_indices\")\n",
    "\n",
    "all_best_overtime, all_worst_overtime, all_iterations, all_total_times, all_iter_times = run_experiments(setups, exp_cfg)\n",
    "\n",
    "colors = [\"orange\", \"blue\", \"green\", \"purple\"]\n",
    "\n",
    "ncols = 2\n",
    "nrows = 2\n",
    "\n",
    "alltime_worst   = max([max(x) for x in all_worst_overtime])\n",
    "alltime_best    = min([min(x) for x in all_best_overtime])\n",
    "\n"
   ]
  },
  {
   "cell_type": "code",
   "execution_count": null,
   "metadata": {},
   "outputs": [],
   "source": [
    "ylim_min = round_to_multiple(alltime_best,  100000, int)\n",
    "ylim_max = round_to_multiple(alltime_worst, 100000, ceil)\n",
    "\n",
    "\n",
    "fig, axes = plt.subplots(nrows=nrows, ncols=ncols, figsize=(13, 8))\n",
    "\n",
    "\n",
    "for i in range(ncols * nrows - len(setups)):\n",
    "    i += len(setups)\n",
    "\n",
    "    fig.delaxes(axes[i // ncols, i % ncols])\n",
    "\n",
    "for i, (setup_name, best_overtime, worst_overtime, color) in enumerate(zip(setups.keys(), all_best_overtime, all_worst_overtime, colors)):\n",
    "    ax = axes[i // ncols, i % ncols]\n",
    "    \n",
    "    ax.plot(best_overtime,  color=color)\n",
    "    ax.plot(worst_overtime, color=color)\n",
    "    ax.fill_between(np.arange(len(best_overtime)), best_overtime, worst_overtime, color=color, alpha=0.3)\n",
    "\n",
    "    ax.set_ylabel(\"Average Fitness\")\n",
    "    ax.set_xlabel(\"Number of iterations\")\n",
    "    ax.set_xlim(0, exp_cfg.max_gen)\n",
    "    ax.set_ylim(ylim_min, ylim_max)\n",
    "    ax.set_title(setup_name)\n",
    "\n",
    "plt.suptitle(f\"Average fitness of best and worst individual over generations for different crossovers over {exp_cfg.n_experiments} runs\")\n",
    "fig.tight_layout()\n",
    "plt.show()"
   ]
  },
  {
   "attachments": {},
   "cell_type": "markdown",
   "metadata": {},
   "source": [
    "## Evaluating Region Based Crossover"
   ]
  },
  {
   "cell_type": "code",
   "execution_count": 8,
   "metadata": {},
   "outputs": [
    {
     "name": "stdout",
     "output_type": "stream",
     "text": [
      "Region Based Crossover\n",
      "\t01  -  004  -  Best: 5566736  -  Worst: 5865164                                                    \r"
     ]
    },
    {
     "ename": "ValueError",
     "evalue": "max() arg is an empty sequence",
     "output_type": "error",
     "traceback": [
      "\u001b[0;31m---------------------------------------------------------------------------\u001b[0m",
      "\u001b[0;31mValueError\u001b[0m                                Traceback (most recent call last)",
      "\u001b[1;32m/Users/niyousha/EA Keyboard Layout/EA-Keyboard-Layout/crossover_test.ipynb Cell 18\u001b[0m in \u001b[0;36m<cell line: 26>\u001b[0;34m()\u001b[0m\n\u001b[1;32m     <a href='vscode-notebook-cell:/Users/niyousha/EA%20Keyboard%20Layout/EA-Keyboard-Layout/crossover_test.ipynb#X36sZmlsZQ%3D%3D?line=22'>23</a>\u001b[0m ncols \u001b[39m=\u001b[39m \u001b[39m2\u001b[39m\n\u001b[1;32m     <a href='vscode-notebook-cell:/Users/niyousha/EA%20Keyboard%20Layout/EA-Keyboard-Layout/crossover_test.ipynb#X36sZmlsZQ%3D%3D?line=23'>24</a>\u001b[0m nrows \u001b[39m=\u001b[39m \u001b[39m2\u001b[39m\n\u001b[0;32m---> <a href='vscode-notebook-cell:/Users/niyousha/EA%20Keyboard%20Layout/EA-Keyboard-Layout/crossover_test.ipynb#X36sZmlsZQ%3D%3D?line=25'>26</a>\u001b[0m alltime_worst   \u001b[39m=\u001b[39m \u001b[39mmax\u001b[39;49m([\u001b[39mmax\u001b[39;49m(x) \u001b[39mfor\u001b[39;49;00m x \u001b[39min\u001b[39;49;00m all_worst_overtime])\n\u001b[1;32m     <a href='vscode-notebook-cell:/Users/niyousha/EA%20Keyboard%20Layout/EA-Keyboard-Layout/crossover_test.ipynb#X36sZmlsZQ%3D%3D?line=26'>27</a>\u001b[0m alltime_best    \u001b[39m=\u001b[39m \u001b[39mmin\u001b[39m([\u001b[39mmin\u001b[39m(x) \u001b[39mfor\u001b[39;00m x \u001b[39min\u001b[39;00m all_best_overtime])\n",
      "\u001b[0;31mValueError\u001b[0m: max() arg is an empty sequence"
     ]
    }
   ],
   "source": [
    "from configs        import EA_Config, Exp_Config, rng, l\n",
    "from run_experiment import run_experiments, round_to_multiple\n",
    "from math       import ceil\n",
    "\n",
    "\n",
    "p = 0.01 \n",
    "\n",
    "setups = {\n",
    "    \"Baseline\"    : EA_Config(crossover_fn=crossover_pmx, indices_gen=lambda: generate_sequential_indices(rng, l), initialization=RandomPermutationInitialization(l))\n",
    ",\n",
    "\"Custom Initialisation\" : EA_Config(crossover_fn=crossover_pmx, indices_gen=lambda: generate_sequential_indices(rng, l), initialization=FrequencyBasedInitialization(p, type, high_frequency, better_region))\n",
    ", \"Region Based Crossover\" : EA_Config(crossover_fn=RegionBasedCrossover().region_based_crossover, indices_gen=pass_matrices_to_crossover, initialization=RandomPermutationInitialization(l))\n",
    ", \"Custom Initialisation and Region Based Crossover\" : EA_Config(crossover_fn=RegionBasedCrossover().region_based_crossover, indices_gen=pass_matrices_to_crossover, initialization=FrequencyBasedInitialization(p, type, high_frequency, better_region))\n",
    "}\n",
    "\n",
    "exp_cfg = Exp_Config(\"crossover_indices\")\n",
    "\n",
    "all_best_overtime, all_worst_overtime, all_iterations, all_total_times, all_iter_times = run_experiments(setups, exp_cfg)\n",
    "\n",
    "colors = [\"orange\", \"blue\", \"green\", \"purple\"]\n",
    "\n",
    "ncols = 2\n",
    "nrows = 2\n",
    "\n",
    "alltime_worst   = max([max(x) for x in all_worst_overtime])\n",
    "alltime_best    = min([min(x) for x in all_best_overtime])\n",
    "\n"
   ]
  },
  {
   "cell_type": "code",
   "execution_count": null,
   "metadata": {},
   "outputs": [],
   "source": [
    "ylim_min = round_to_multiple(alltime_best,  100000, int)\n",
    "ylim_max = round_to_multiple(alltime_worst, 100000, ceil)\n",
    "\n",
    "\n",
    "fig, axes = plt.subplots(nrows=nrows, ncols=ncols, figsize=(13, 8))\n",
    "\n",
    "\n",
    "for i in range(ncols * nrows - len(setups)):\n",
    "    i += len(setups)\n",
    "\n",
    "    fig.delaxes(axes[i // ncols, i % ncols])\n",
    "\n",
    "for i, (setup_name, best_overtime, worst_overtime, color) in enumerate(zip(setups.keys(), all_best_overtime, all_worst_overtime, colors)):\n",
    "    ax = axes[i // ncols, i % ncols]\n",
    "    \n",
    "    ax.plot(best_overtime,  color=color)\n",
    "    ax.plot(worst_overtime, color=color)\n",
    "    ax.fill_between(np.arange(len(best_overtime)), best_overtime, worst_overtime, color=color, alpha=0.3)\n",
    "\n",
    "    ax.set_ylabel(\"Average Fitness\")\n",
    "    ax.set_xlabel(\"Number of iterations\")\n",
    "    ax.set_xlim(0, exp_cfg.max_gen)\n",
    "    ax.set_ylim(ylim_min, ylim_max)\n",
    "    ax.set_title(setup_name)\n",
    "\n",
    "plt.suptitle(f\"Average fitness of best and worst individual over generations for different crossovers over {exp_cfg.n_experiments} runs\")\n",
    "fig.tight_layout()\n",
    "plt.show()"
   ]
  }
 ],
 "metadata": {
  "kernelspec": {
   "display_name": "ea-course-permutations-YQU5Ux92-py3.10",
   "language": "python",
   "name": "python3"
  },
  "language_info": {
   "codemirror_mode": {
    "name": "ipython",
    "version": 3
   },
   "file_extension": ".py",
   "mimetype": "text/x-python",
   "name": "python",
   "nbconvert_exporter": "python",
   "pygments_lexer": "ipython3",
   "version": "3.10.8"
  },
  "orig_nbformat": 4,
  "vscode": {
   "interpreter": {
    "hash": "fdc806174fe954f27f1cbf64478bf5a0d764373465811a3e3e07ed10a4af0377"
   }
  }
 },
 "nbformat": 4,
 "nbformat_minor": 2
}
