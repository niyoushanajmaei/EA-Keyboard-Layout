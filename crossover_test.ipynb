{
 "cells": [
  {
   "cell_type": "code",
   "execution_count": 1,
   "metadata": {},
   "outputs": [],
   "source": [
    "\n",
    "# Re-import dependencies (in case earlier import was skipped)\n",
    "import numpy as np\n",
    "import matplotlib.pyplot as plt\n",
    "import pandas as pd\n",
    "\n",
    "from permutationsga.ga import (\n",
    "    ConfigurableGA,\n",
    "\n",
    "    RandomPermutationInitialization,\n",
    "    crossover_pmx,\n",
    "    TournamentSelection,\n",
    "    FunctionBasedRecombinator,\n",
    "    SequentialSelector,\n",
    "    generate_sequential_indices,\n",
    "    \n",
    "    \n",
    ")\n",
    "from permutationsga.problem import IdenticalDecoder, InvPermDecoder, RandomKeysDecoder\n",
    "\n",
    "from permutationsga.qap import QAP, read_qaplib\n",
    "from mutation_initialization.frequency_based_initialization import FrequencyBasedInitialization\n",
    "from our_other_crossover.linkage_based_crossover import LinkageBasedCrossover\n",
    "from our_other_crossover.region_based_crossover import RegionBasedCrossover"
   ]
  },
  {
   "cell_type": "code",
   "execution_count": 2,
   "metadata": {},
   "outputs": [],
   "source": [
    "# The bur* instances are those that we will be using - note that we are only using 26 keys in this case.\n",
    "problem = QAP(*read_qaplib(\"./instances/qap/bur26a.dat\"))"
   ]
  },
  {
   "cell_type": "code",
   "execution_count": 4,
   "metadata": {},
   "outputs": [
    {
     "name": "stdout",
     "output_type": "stream",
     "text": [
      "type: 0, high frequency characters: [ 7 18  0 19 17  8 13  4]\n"
     ]
    }
   ],
   "source": [
    "distance_matrix = problem.A\n",
    "frequency_matrix = problem.B\n",
    "\n",
    "if distance_matrix[0][0] == 53:\n",
    "    type = 0\n",
    "if distance_matrix[0][0] == 37:\n",
    "    type = 1\n",
    "else:\n",
    "    Exception(\"The distance matrix is not as expected\")\n",
    "\n",
    "row_sum = np.sum(frequency_matrix, axis = 1)\n",
    "col_sum = np.sum(frequency_matrix, axis = 0)\n",
    "frequencies = np.add(row_sum, col_sum)\n",
    "high_frequency = np.argsort(frequencies)[-8:]\n",
    "print(f\"type: {type}, high frequency characters: {high_frequency}\")"
   ]
  },
  {
   "cell_type": "code",
   "execution_count": 5,
   "metadata": {},
   "outputs": [
    {
     "name": "stdout",
     "output_type": "stream",
     "text": [
      "[18 17 16 12 10 11  9 13]\n"
     ]
    }
   ],
   "source": [
    "row_sum = np.sum(distance_matrix, axis = 1)\n",
    "col_sum = np.sum(distance_matrix, axis = 0)\n",
    "distances = np.add(row_sum, col_sum)\n",
    "better_region = np.argsort(distances)[:8]\n",
    "print(better_region)"
   ]
  },
  {
   "cell_type": "code",
   "execution_count": 6,
   "metadata": {},
   "outputs": [],
   "source": [
    "problem = IdenticalDecoder(problem) "
   ]
  },
  {
   "attachments": {},
   "cell_type": "markdown",
   "metadata": {},
   "source": [
    "Recombine & Select (repeat a few times to see how things evolve!):"
   ]
  },
  {
   "cell_type": "code",
   "execution_count": 7,
   "metadata": {},
   "outputs": [],
   "source": [
    "def pass_matrices_to_crossover():\n",
    "    return frequency_matrix, distance_matrix"
   ]
  },
  {
   "cell_type": "code",
   "execution_count": 8,
   "metadata": {},
   "outputs": [],
   "source": [
    "differences = []\n",
    "p = 1e-2\n",
    "seed = 42\n",
    "population_size = 2**11\n",
    "rng = np.random.default_rng(seed=seed + 1)\n",
    "l = problem.get_length()\n",
    "\n",
    "\n",
    "#crossover_fn = LinkageBasedCrossover().linkage_based_crossover\n",
    "crossover_fn = RegionBasedCrossover().region_based_crossover\n",
    "#initialization = FrequencyBasedInitialization(p, type, high_frequency)\n",
    "initialization = RandomPermutationInitialization(l)\n",
    "indices_gen = pass_matrices_to_crossover  # so that it gets passed to the crossover function\n",
    "parent_selection = SequentialSelector()\n",
    "recombinator = FunctionBasedRecombinator(\n",
    "    indices_gen,\n",
    "    crossover_fn,\n",
    "    parent_selection,\n",
    "    population_size * 2, # Note: double as we are including the previous population\n",
    "    include_what=\"population\"\n",
    ")\n",
    "selection = TournamentSelection()\n",
    "ga = ConfigurableGA(\n",
    "    seed, population_size, problem, initialization, recombinator, selection\n",
    ")\n"
   ]
  },
  {
   "cell_type": "code",
   "execution_count": null,
   "metadata": {},
   "outputs": [],
   "source": [
    "i=0\n",
    "while True:\n",
    "    ga.generation()\n",
    "    differences.append(max(s.f for s in ga.population) - min(s.f for s in ga.population))\n",
    "    if differences[-1] == 0:\n",
    "        break\n",
    "    i+=1 "
   ]
  },
  {
   "cell_type": "code",
   "execution_count": null,
   "metadata": {},
   "outputs": [],
   "source": [
    "# plot the differences in plt.line\n",
    "plt.plot(differences)"
   ]
  },
  {
   "cell_type": "code",
   "execution_count": null,
   "metadata": {},
   "outputs": [],
   "source": [
    "print(len(differences))"
   ]
  },
  {
   "cell_type": "code",
   "execution_count": null,
   "metadata": {},
   "outputs": [],
   "source": [
    "# Current best & worst\n",
    "min(s.f for s in ga.population), max(s.f for s in ga.population)"
   ]
  },
  {
   "cell_type": "code",
   "execution_count": null,
   "metadata": {},
   "outputs": [],
   "source": [
    "# print the genotype of the best\n",
    "print(ga.population[np.argmin(s.f for s in ga.population)].e)"
   ]
  },
  {
   "attachments": {},
   "cell_type": "markdown",
   "metadata": {},
   "source": [
    "## Evaluating Linkage Based Crossover"
   ]
  },
  {
   "cell_type": "code",
   "execution_count": 9,
   "metadata": {},
   "outputs": [],
   "source": [
    "from configs        import EA_Config, Exp_Config, rng, l\n",
    "from run_experiment import run_experiments, round_to_multiple\n",
    "from math           import ceil\n",
    "\n",
    "\n",
    "p = 1e-2\n",
    "\n",
    "\n",
    "setups = {\n",
    "    \"Baseline\" :                                            EA_Config(crossover_fn=crossover_pmx, indices_gen=lambda: generate_sequential_indices(rng, l), initialization=RandomPermutationInitialization(l)),\n",
    "    \"Custom Initialisation\" :                               EA_Config(crossover_fn=crossover_pmx, indices_gen=lambda: generate_sequential_indices(rng, l), initialization=FrequencyBasedInitialization(p, type, high_frequency, better_region)), \n",
    "    \"Linkage Based Crossover Crossover\" :                   EA_Config(crossover_fn=LinkageBasedCrossover().linkage_based_crossover, indices_gen=pass_matrices_to_crossover, initialization=RandomPermutationInitialization(l)), \n",
    "    \"Custom Initialisation and Linkage Based Crossover\" :   EA_Config(crossover_fn=LinkageBasedCrossover().linkage_based_crossover, indices_gen=pass_matrices_to_crossover, initialization=FrequencyBasedInitialization(p, type, high_frequency, better_region))\n",
    "}\n",
    "\n",
    "exp_cfg = Exp_Config(\"linkage_based_crossover\", n_experiments=20)\n",
    "\n",
    "# all_best_overtime, all_worst_overtime, all_iterations, all_total_times, all_iter_times = run_experiments(setups, exp_cfg)\n",
    "\n",
    "# colors = [\"orange\", \"blue\", \"green\", \"purple\"]\n",
    "\n",
    "# ncols = 2\n",
    "# nrows = 2\n",
    "\n",
    "# alltime_worst   = max([max(x) for x in all_worst_overtime])\n",
    "# alltime_best    = min([min(x) for x in all_best_overtime])\n",
    "\n"
   ]
  },
  {
   "cell_type": "code",
   "execution_count": 10,
   "metadata": {},
   "outputs": [
    {
     "name": "stdout",
     "output_type": "stream",
     "text": [
      "Baseline\n",
      "                                                                                                    \n",
      "Custom Initialisation\n",
      "                                                                                                    \n",
      "Linkage Based Crossover Crossover\n",
      "                                                                                                    \n",
      "Custom Initialisation and Linkage Based Crossover\n",
      "                                                                                                    \n"
     ]
    }
   ],
   "source": [
    "all_fitnesses_overtime, all_iterations, all_total_times, all_iter_times = run_experiments(setups, exp_cfg)"
   ]
  },
  {
   "attachments": {},
   "cell_type": "markdown",
   "metadata": {},
   "source": [
    "## Evaluating Region Based Crossover"
   ]
  },
  {
   "cell_type": "code",
   "execution_count": 11,
   "metadata": {},
   "outputs": [],
   "source": [
    "from configs        import EA_Config, Exp_Config, rng, l\n",
    "from run_experiment import run_experiments, round_to_multiple\n",
    "from math       import ceil\n",
    "\n",
    "\n",
    "p = 0.01 \n",
    "\n",
    "setups = {\n",
    "    \"Baseline\"    :                                         EA_Config(crossover_fn=crossover_pmx, indices_gen=lambda: generate_sequential_indices(rng, l), initialization=RandomPermutationInitialization(l)),\n",
    "    \"Custom Initialisation\" :                               EA_Config(crossover_fn=crossover_pmx, indices_gen=lambda: generate_sequential_indices(rng, l), initialization=FrequencyBasedInitialization(p, type, high_frequency, better_region)), \n",
    "    \"Region Based Crossover\" :                              EA_Config(crossover_fn=RegionBasedCrossover().region_based_crossover, indices_gen=pass_matrices_to_crossover, initialization=RandomPermutationInitialization(l)), \n",
    "    \"Custom Initialisation and Region Based Crossover\" :    EA_Config(crossover_fn=RegionBasedCrossover().region_based_crossover, indices_gen=pass_matrices_to_crossover, initialization=FrequencyBasedInitialization(p, type, high_frequency, better_region))\n",
    "}\n",
    "\n",
    "exp_cfg = Exp_Config(\"region_based_crossover\", n_experiments=20)\n",
    "\n",
    "# all_best_overtime, all_worst_overtime, all_iterations, all_total_times, all_iter_times = run_experiments(setups, exp_cfg)\n",
    "\n",
    "# colors = [\"orange\", \"blue\", \"green\", \"purple\"]\n",
    "\n",
    "# ncols = 2\n",
    "# nrows = 2\n",
    "\n",
    "# alltime_worst   = max([max(x) for x in all_worst_overtime])\n",
    "# alltime_best    = min([min(x) for x in all_best_overtime])\n",
    "\n"
   ]
  },
  {
   "cell_type": "code",
   "execution_count": 12,
   "metadata": {},
   "outputs": [
    {
     "name": "stdout",
     "output_type": "stream",
     "text": [
      "Baseline\n",
      "                                                                                                    \n",
      "Custom Initialisation\n",
      "                                                                                                    \n",
      "Region Based Crossover\n",
      "                                                                                                    \n",
      "Custom Initialisation and Region Based Crossover\n",
      "                                                                                                    \n"
     ]
    }
   ],
   "source": [
    "all_fitnesses_overtime, all_iterations, all_total_times, all_iter_times = run_experiments(setups, exp_cfg)"
   ]
  }
 ],
 "metadata": {
  "kernelspec": {
   "display_name": "ea-course-permutations-YQU5Ux92-py3.10",
   "language": "python",
   "name": "python3"
  },
  "language_info": {
   "codemirror_mode": {
    "name": "ipython",
    "version": 3
   },
   "file_extension": ".py",
   "mimetype": "text/x-python",
   "name": "python",
   "nbconvert_exporter": "python",
   "pygments_lexer": "ipython3",
   "version": "3.11.0"
  },
  "orig_nbformat": 4,
  "vscode": {
   "interpreter": {
    "hash": "fdc806174fe954f27f1cbf64478bf5a0d764373465811a3e3e07ed10a4af0377"
   }
  }
 },
 "nbformat": 4,
 "nbformat_minor": 2
}
