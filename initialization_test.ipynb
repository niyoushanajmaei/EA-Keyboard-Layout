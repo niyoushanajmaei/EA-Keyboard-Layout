{
 "cells": [
  {
   "cell_type": "code",
   "execution_count": 1,
   "metadata": {},
   "outputs": [],
   "source": [
    "# Imports\n",
    "import gzip # as some instance files may have been compressed\n",
    "\n",
    "# Re-import dependencies (in case earlier import was skipped)\n",
    "import numpy as np\n",
    "import matplotlib.pyplot as plt\n",
    "import pandas as pd\n",
    "\n",
    "from permutationsga.ga import (\n",
    "    ConfigurableGA,\n",
    "\n",
    "    RandomPermutationInitialization,\n",
    "    crossover_ox,\n",
    "    crossover_cx,\n",
    "    crossover_pmx,\n",
    "    TournamentSelection,\n",
    "    FunctionBasedRecombinator,\n",
    "    SequentialSelector,\n",
    "    generate_uniform_indices,\n",
    "    generate_sequential_indices,\n",
    "    generate_sequential_wrapping_indices,\n",
    "\n",
    "    RandomUniformInitialization,\n",
    "    DifferentialEvolutionRecombinator,\n",
    "    \n",
    "    \n",
    ")\n",
    "from permutationsga.problem import IdenticalDecoder, InvPermDecoder, RandomKeysDecoder\n",
    "\n",
    "from permutationsga.qap import QAP, read_qaplib\n",
    "from mutation_initialization.frequency_restricted_initialization import FrequencyRestrictedInitialization"
   ]
  },
  {
   "cell_type": "code",
   "execution_count": 2,
   "metadata": {},
   "outputs": [],
   "source": [
    "# The bur* instances are those that we will be using - note that we are only using 26 keys in this case.\n",
    "problem = QAP(*read_qaplib(\"./instances/qap/bur26a.dat\"))"
   ]
  },
  {
   "cell_type": "code",
   "execution_count": 3,
   "metadata": {},
   "outputs": [
    {
     "name": "stdout",
     "output_type": "stream",
     "text": [
      "type: 0, high frequency characters: [11  7 18  0 19 17  8 13  4]\n"
     ]
    }
   ],
   "source": [
    "distance_matrix = problem.A\n",
    "frequency_matrix = problem.B\n",
    "\n",
    "if distance_matrix[0][0] == 53:\n",
    "    type = 0\n",
    "if distance_matrix[0][0] == 37:\n",
    "    type = 1\n",
    "else:\n",
    "    Exception(\"The distance matrix is not as expected\")\n",
    "\n",
    "row_sum = np.sum(frequency_matrix, axis = 1)\n",
    "col_sum = np.sum(frequency_matrix, axis = 0)\n",
    "frequencies = np.add(row_sum, col_sum)\n",
    "high_frequency = np.argsort(frequencies)[-9:]\n",
    "print(f\"type: {type}, high frequency characters: {high_frequency}\")"
   ]
  },
  {
   "cell_type": "code",
   "execution_count": 4,
   "metadata": {},
   "outputs": [],
   "source": [
    "problem = IdenticalDecoder(problem) "
   ]
  },
  {
   "cell_type": "code",
   "execution_count": 5,
   "metadata": {},
   "outputs": [],
   "source": [
    "# GA - Permutation\n",
    "seed = 42\n",
    "population_size = 2**11\n",
    "rng = np.random.default_rng(seed=seed + 1)\n",
    "l = problem.get_length()\n",
    "\n",
    "\n",
    "crossover_fn = crossover_pmx; indices_gen = lambda: generate_sequential_indices(rng, l)\n",
    "# crossover_fn = crossover_pmx; indices_gen = lambda: generate_uniform_indices(rng, l, 0.5)\n",
    "# crossover_fn = crossover_ox; indices_gen = lambda: generate_sequential_indices(rng, l)\n",
    "# crossover_fn = crossover_cx; indices_gen = lambda: rng.integers(0, l - 1, size=1)\n",
    "# crossover_fn = crossover_cx; indices_gen = lambda: generate_uniform_indices(rng, l, 0.05)\n",
    "\n",
    "p = 1e-3\n",
    "initialization = FrequencyRestrictedInitialization(p, type, high_frequency)\n",
    "#initialization = RandomPermutationInitialization(l)\n",
    "parent_selection = SequentialSelector()\n",
    "recombinator = FunctionBasedRecombinator(\n",
    "    indices_gen,\n",
    "    crossover_fn,\n",
    "    parent_selection,\n",
    "    population_size * 2, # Note: double as we are including the previous population\n",
    "    include_what=\"population\"\n",
    ")\n",
    "selection = TournamentSelection()\n",
    "ga = ConfigurableGA(\n",
    "    seed, population_size, problem, initialization, recombinator, selection\n",
    ")\n"
   ]
  },
  {
   "cell_type": "code",
   "execution_count": 9,
   "metadata": {},
   "outputs": [
    {
     "name": "stdout",
     "output_type": "stream",
     "text": [
      "[ 5 20 16 22  3 24  2 21 25  6  8  0  7 19 13 11  4 17 18 23 15  1 12 14\n",
      "  9 10]\n"
     ]
    }
   ],
   "source": [
    "ga.generation()\n",
    "print(ga.population[0].e)"
   ]
  },
  {
   "cell_type": "code",
   "execution_count": 10,
   "metadata": {},
   "outputs": [
    {
     "data": {
      "text/plain": [
       "(5511914.0, 5771340.0)"
      ]
     },
     "execution_count": 10,
     "metadata": {},
     "output_type": "execute_result"
    }
   ],
   "source": [
    "# Current best & worst\n",
    "min(s.f for s in ga.population), max(s.f for s in ga.population)"
   ]
  },
  {
   "attachments": {},
   "cell_type": "markdown",
   "metadata": {},
   "source": [
    "Recombine & Select (repeat a few times to see how things evolve!):"
   ]
  },
  {
   "cell_type": "code",
   "execution_count": 12,
   "metadata": {},
   "outputs": [],
   "source": [
    "differences = []\n",
    "p = 1e-2\n",
    "seed = 42\n",
    "population_size = 2**11\n",
    "rng = np.random.default_rng(seed=seed + 1)\n",
    "l = problem.get_length()\n",
    "\n",
    "\n",
    "crossover_fn = crossover_pmx; indices_gen = lambda: generate_sequential_indices(rng, l)\n",
    "# crossover_fn = crossover_pmx; indices_gen = lambda: generate_uniform_indices(rng, l, 0.5)\n",
    "# crossover_fn = crossover_ox; indices_gen = lambda: generate_sequential_indices(rng, l)\n",
    "# crossover_fn = crossover_cx; indices_gen = lambda: rng.integers(0, l - 1, size=1)\n",
    "#crossover_fn = crossover_cx; indices_gen = lambda: generate_uniform_indices(rng, l, 0.05)\n",
    "\n",
    "initialization = FrequencyRestrictedInitialization(p, type, high_frequency)\n",
    "#initialization = RandomPermutationInitialization(l)\n",
    "parent_selection = SequentialSelector()\n",
    "recombinator = FunctionBasedRecombinator(\n",
    "    indices_gen,\n",
    "    crossover_fn,\n",
    "    parent_selection,\n",
    "    population_size * 2, # Note: double as we are including the previous population\n",
    "    include_what=\"population\"\n",
    ")\n",
    "selection = TournamentSelection()\n",
    "ga = ConfigurableGA(\n",
    "    seed, population_size, problem, initialization, recombinator, selection\n",
    ")\n",
    "while True:\n",
    "    ga.generation()\n",
    "    differences.append(max(s.f for s in ga.population) - min(s.f for s in ga.population))\n",
    "    if differences[-1] == 0:\n",
    "        break\n",
    "    \n"
   ]
  },
  {
   "cell_type": "code",
   "execution_count": 13,
   "metadata": {},
   "outputs": [
    {
     "data": {
      "text/plain": [
       "[<matplotlib.lines.Line2D at 0x109bff250>]"
      ]
     },
     "execution_count": 13,
     "metadata": {},
     "output_type": "execute_result"
    },
    {
     "data": {
      "image/png": "[encoded data removed]",
      "text/plain": [
       "<Figure size 432x288 with 1 Axes>"
      ]
     },
     "metadata": {
      "needs_background": "light"
     },
     "output_type": "display_data"
    }
   ],
   "source": [
    "# plot the differences in plt.line\n",
    "plt.plot(differences)"
   ]
  },
  {
   "cell_type": "code",
   "execution_count": 14,
   "metadata": {},
   "outputs": [
    {
     "name": "stdout",
     "output_type": "stream",
     "text": [
      "38\n"
     ]
    }
   ],
   "source": [
    "print(len(differences))"
   ]
  },
  {
   "cell_type": "code",
   "execution_count": 15,
   "metadata": {},
   "outputs": [
    {
     "data": {
      "text/plain": [
       "(5439022.0, 5439022.0)"
      ]
     },
     "execution_count": 15,
     "metadata": {},
     "output_type": "execute_result"
    }
   ],
   "source": [
    "# Current best & worst\n",
    "min(s.f for s in ga.population), max(s.f for s in ga.population)"
   ]
  },
  {
   "cell_type": "code",
   "execution_count": 16,
   "metadata": {},
   "outputs": [
    {
     "name": "stdout",
     "output_type": "stream",
     "text": [
      "[ 1 22 25  3  6 14 23 15  2 20 19 11 17 18  7  0  4 13  8 21  5 12  9 10\n",
      " 16 24]\n"
     ]
    }
   ],
   "source": [
    "# print the genotype of the best\n",
    "print(ga.population[np.argmin(s.f for s in ga.population)].e)"
   ]
  },
  {
   "cell_type": "code",
   "execution_count": 17,
   "metadata": {},
   "outputs": [
    {
     "name": "stdout",
     "output_type": "stream",
     "text": [
      "[5439211.0, 5439022.0, 5438657.0, 5448948.0, 5446377.0, 5446377.0]\n",
      "best results: 5438657.0 with p = 0.001\n"
     ]
    }
   ],
   "source": [
    "# Tuning the p value\n",
    "p_values = [0.1, 1e-2, 1e-3, 1e-4, 1e-5, 1e-6]\n",
    "results = [[], [], [], [], [], []]\n",
    "best_results = [[], [], [], [], [], []]\n",
    "\n",
    "i=0\n",
    "for p in p_values:\n",
    "    differences = []\n",
    "    best = []\n",
    "    seed = 42\n",
    "    population_size = 2**11\n",
    "    rng = np.random.default_rng(seed=seed + 1)\n",
    "    l = problem.get_length()\n",
    "\n",
    "\n",
    "    crossover_fn = crossover_pmx; indices_gen = lambda: generate_sequential_indices(rng, l)\n",
    "    # crossover_fn = crossover_pmx; indices_gen = lambda: generate_uniform_indices(rng, l, 0.5)\n",
    "    # crossover_fn = crossover_ox; indices_gen = lambda: generate_sequential_indices(rng, l)\n",
    "    # crossover_fn = crossover_cx; indices_gen = lambda: rng.integers(0, l - 1, size=1)\n",
    "    #crossover_fn = crossover_cx; indices_gen = lambda: generate_uniform_indices(rng, l, 0.05)\n",
    "\n",
    "    initialization = FrequencyRestrictedInitialization(p, type, high_frequency)\n",
    "    parent_selection = SequentialSelector()\n",
    "    recombinator = FunctionBasedRecombinator(\n",
    "        indices_gen,\n",
    "        crossover_fn,\n",
    "        parent_selection,\n",
    "        population_size * 2, # Note: double as we are including the previous population\n",
    "        include_what=\"population\"\n",
    "    )\n",
    "    selection = TournamentSelection()\n",
    "    ga = ConfigurableGA(\n",
    "        seed, population_size, problem, initialization, recombinator, selection\n",
    "    )\n",
    "    while True:\n",
    "        ga.generation()\n",
    "        #print(f\"probability: {p}, {min(s.f for s in ga.population)}\")\n",
    "        differences.append(max(s.f for s in ga.population) - min(s.f for s in ga.population))\n",
    "        if differences[-1] == 0:\n",
    "            break\n",
    "        results[i].append(min(s.f for s in ga.population))\n",
    "    best_results[i] = min(s.f for s in ga.population)\n",
    "    i += 1\n",
    "print(best_results)\n",
    "print(f\"best results: {min(best_results)} with p = {p_values[np.argmin(best_results)]}\")"
   ]
  },
  {
   "cell_type": "code",
   "execution_count": 22,
   "metadata": {},
   "outputs": [
    {
     "data": {
      "image/png": "[encoded data removed]",
      "text/plain": [
       "<Figure size 432x288 with 1 Axes>"
      ]
     },
     "metadata": {
      "needs_background": "light"
     },
     "output_type": "display_data"
    }
   ],
   "source": [
    "# plot results for different p values in one plot\n",
    "plt.plot(results[0], label=f\"p = {p_values[0]}\")\n",
    "plt.plot(results[1], label=f\"p = {p_values[1]}\")\n",
    "plt.plot(results[2], label=f\"p = {p_values[2]}\")\n",
    "plt.plot(results[3], label=f\"p = {p_values[3]}\")\n",
    "plt.plot(results[4], label=f\"p = {p_values[4]}\")\n",
    "plt.plot(results[5], label=f\"p = {p_values[5]}\")\n",
    "plt.legend()\n",
    "plt.xlabel(\"Generations\")\n",
    "plt.ylabel(\"Fitness\")\n",
    "plt.title(\"Best fitness over gens for different p values\")\n",
    "plt.show()"
   ]
  },
  {
   "attachments": {},
   "cell_type": "markdown",
   "metadata": {},
   "source": [
    " p = 0.001 converges to a better value in less generations. So we choose p = 0.001"
   ]
  },
  {
   "cell_type": "code",
   "execution_count": 23,
   "metadata": {},
   "outputs": [
    {
     "name": "stdout",
     "output_type": "stream",
     "text": [
      "Random Permutation Initialization\n",
      "\tBest:  5450527.0                                                                                   \n",
      "\tWorst: 5450527.0\n",
      "\tDiff:  0.0\n",
      "\n",
      "Customized Initialization\n",
      "\tBest:  5439346.0                                                                                   \n",
      "\tWorst: 5439346.0\n",
      "\tDiff:  0.0\n",
      "\n"
     ]
    }
   ],
   "source": [
    "from configs        import EA_Config, Exp_Config, rng, l\n",
    "from run_experiment import run_experiments, round_to_multiple\n",
    "from math       import ceil\n",
    "\n",
    "p = 1e-3\n",
    "EA_Config(crossover_fn=crossover_pmx, indices_gen=lambda: generate_sequential_indices(rng, l), initialization=RandomPermutationInitialization(l))\n",
    "EA_Config(crossover_fn=crossover_pmx, indices_gen=lambda: generate_sequential_indices(rng, l), initialization=FrequencyRestrictedInitialization(p, type, high_frequency))\n",
    "\n",
    "\n",
    "setups = {\n",
    "    \"Random Permutation Initialization\"    : EA_Config(crossover_fn=crossover_pmx, indices_gen=lambda: generate_sequential_indices(rng, l), initialization=RandomPermutationInitialization(l))\n",
    ",\n",
    "    \"Customized Initialization\"       : EA_Config(crossover_fn=crossover_pmx, indices_gen=lambda: generate_sequential_indices(rng, l), initialization=FrequencyRestrictedInitialization(p, type, high_frequency))\n",
    "}\n",
    "\n",
    "exp_cfg = Exp_Config(\"crossover_indices\")\n",
    "\n",
    "all_best_overtime, all_worst_overtime, all_iterations, all_total_times, all_iter_times = run_experiments(setups, exp_cfg)\n",
    "\n",
    "colors = [\"orange\", \"blue\"]\n",
    "\n",
    "ncols = 2\n",
    "nrows = 1\n",
    "\n",
    "alltime_worst   = max([max(x) for x in all_worst_overtime])\n",
    "alltime_best    = min([min(x) for x in all_best_overtime])\n",
    "\n"
   ]
  },
  {
   "cell_type": "code",
   "execution_count": 26,
   "metadata": {},
   "outputs": [
    {
     "data": {
      "image/png": "[encoded data removed]",
      "text/plain": [
       "<Figure size 936x576 with 2 Axes>"
      ]
     },
     "metadata": {
      "needs_background": "light"
     },
     "output_type": "display_data"
    }
   ],
   "source": [
    "ylim_min = round_to_multiple(alltime_best,  100000, int)\n",
    "ylim_max = round_to_multiple(alltime_worst, 100000, ceil)\n",
    "\n",
    "\n",
    "fig, axes = plt.subplots(nrows=nrows, ncols=ncols, figsize=(13, 8))\n",
    "\n",
    "\n",
    "for i in range(ncols * nrows - len(setups)):\n",
    "    i += len(setups)\n",
    "\n",
    "    fig.delaxes(axes[i // ncols, i % ncols])\n",
    "\n",
    "for i, (setup_name, best_overtime, worst_overtime, color) in enumerate(zip(setups.keys(), all_best_overtime, all_worst_overtime, colors)):\n",
    "    ax = axes[i]\n",
    "    \n",
    "    ax.plot(best_overtime,  color=color)\n",
    "    ax.plot(worst_overtime, color=color)\n",
    "    ax.fill_between(np.arange(len(best_overtime)), best_overtime, worst_overtime, color=color, alpha=0.3)\n",
    "\n",
    "    ax.set_ylabel(\"Average Fitness\")\n",
    "    ax.set_xlabel(\"Number of iterations\")\n",
    "    ax.set_xlim(0, exp_cfg.max_gen)\n",
    "    ax.set_ylim(ylim_min, ylim_max)\n",
    "    ax.set_title(setup_name)\n",
    "\n",
    "plt.suptitle(f\"Average fitness of best and worst individual over generations for different crossovers over {exp_cfg.n_experiments} runs\")\n",
    "fig.tight_layout()\n",
    "plt.show()"
   ]
  },
  {
   "cell_type": "code",
   "execution_count": 27,
   "metadata": {},
   "outputs": [],
   "source": [
    "differences = []\n",
    "p = 1e-3\n",
    "seed = 42\n",
    "population_size = 2**11\n",
    "rng = np.random.default_rng(seed=seed + 1)\n",
    "l = problem.get_length()\n",
    "\n",
    "\n",
    "crossover_fn = crossover_pmx; indices_gen = lambda: generate_sequential_indices(rng, l)\n",
    "# crossover_fn = crossover_pmx; indices_gen = lambda: generate_uniform_indices(rng, l, 0.5)\n",
    "# crossover_fn = crossover_ox; indices_gen = lambda: generate_sequential_indices(rng, l)\n",
    "# crossover_fn = crossover_cx; indices_gen = lambda: rng.integers(0, l - 1, size=1)\n",
    "#crossover_fn = crossover_cx; indices_gen = lambda: generate_uniform_indices(rng, l, 0.05)\n",
    "\n",
    "results = [[],[]]\n",
    "\n",
    "for i in range(2):\n",
    "    if i ==0:\n",
    "        initialization = FrequencyRestrictedInitialization(p, type, high_frequency)\n",
    "    else:\n",
    "        initialization = RandomPermutationInitialization(l)\n",
    "    parent_selection = SequentialSelector()\n",
    "    recombinator = FunctionBasedRecombinator(\n",
    "        indices_gen,\n",
    "        crossover_fn,\n",
    "        parent_selection,\n",
    "        population_size * 2, # Note: double as we are including the previous population\n",
    "        include_what=\"population\"\n",
    "    )\n",
    "    selection = TournamentSelection()\n",
    "    ga = ConfigurableGA(\n",
    "        seed, population_size, problem, initialization, recombinator, selection\n",
    "    )\n",
    "    while True:\n",
    "        ga.generation()\n",
    "        results[i] = [s.f for s in ga.population]\n",
    "        differences.append(max(s.f for s in ga.population) - min(s.f for s in ga.population))\n",
    "        if differences[-1] == 0:\n",
    "            break\n",
    "        break"
   ]
  },
  {
   "cell_type": "code",
   "execution_count": 32,
   "metadata": {},
   "outputs": [
    {
     "data": {
      "text/plain": [
       "Text(0.5, 0.98, 'Histogram of fitness values for different initializations')"
      ]
     },
     "execution_count": 32,
     "metadata": {},
     "output_type": "execute_result"
    },
    {
     "data": {
      "image/png": "[encoded data removed]",
      "text/plain": [
       "<Figure size 936x576 with 2 Axes>"
      ]
     },
     "metadata": {
      "needs_background": "light"
     },
     "output_type": "display_data"
    }
   ],
   "source": [
    "# make histogram of results\n",
    "fig, axes = plt.subplots(nrows=1, ncols=2, figsize=(13, 8))\n",
    "histogram = axes[0].hist(results[0], bins=100)\n",
    "axes[0].set_title(\"Frequency Restricted Initialization\")\n",
    "histogram_2 = axes[1].hist(results[1], bins=100)\n",
    "axes[1].set_title(\"Random Initialization\")\n",
    "axes[0].set_xlabel(\"Fitness\")\n",
    "axes[1].set_xlabel(\"Fitness\")\n",
    "axes[0].set_ylim(0,80)\n",
    "axes[1].set_ylim(0,80)\n",
    "axes[0].set_xlim(5.25e6,6.75e6)\n",
    "axes[1].set_xlim(5.25e6,6.75e6)\n",
    "fig.suptitle(\"Histogram of fitness values for different initializations\")"
   ]
  },
  {
   "cell_type": "code",
   "execution_count": 30,
   "metadata": {},
   "outputs": [
    {
     "data": {
      "text/plain": [
       "(5250000.0, 6750000.0)"
      ]
     },
     "execution_count": 30,
     "metadata": {},
     "output_type": "execute_result"
    },
    {
     "data": {
      "image/png": "[encoded data removed]",
      "text/plain": [
       "<Figure size 936x576 with 2 Axes>"
      ]
     },
     "metadata": {
      "needs_background": "light"
     },
     "output_type": "display_data"
    }
   ],
   "source": [
    "#Create boxplot of results\n",
    "fig, axes = plt.subplots(nrows=1, ncols=2, figsize=(13, 8))\n",
    "axes[0].boxplot(results[0])\n",
    "axes[0].set_title(\"Frequency Restricted Initialization\")\n",
    "axes[1].boxplot(results[1])\n",
    "axes[1].set_title(\"Random Initialization\")\n",
    "axes[1].set_ylim(5.25e6, 6.75e6)\n",
    "axes[0].set_ylim(5.25e6, 6.75e6)\n",
    "axes[0].set_ylabel(\"Fitness\")\n",
    "axes[1].set_ylabel(\"Fitness\")\n",
    "fig.suptitle(\"Boxplot of fitness values for different initializations\")"
   ]
  }
 ],
 "metadata": {
  "kernelspec": {
   "display_name": "ea-course-permutations-YQU5Ux92-py3.10",
   "language": "python",
   "name": "python3"
  },
  "language_info": {
   "codemirror_mode": {
    "name": "ipython",
    "version": 3
   },
   "file_extension": ".py",
   "mimetype": "text/x-python",
   "name": "python",
   "nbconvert_exporter": "python",
   "pygments_lexer": "ipython3",
   "version": "3.10.8"
  },
  "orig_nbformat": 4,
  "vscode": {
   "interpreter": {
    "hash": "fdc806174fe954f27f1cbf64478bf5a0d764373465811a3e3e07ed10a4af0377"
   }
  }
 },
 "nbformat": 4,
 "nbformat_minor": 2
}
