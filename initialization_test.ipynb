{
 "cells": [
  {
   "cell_type": "code",
   "execution_count": 1,
   "metadata": {},
   "outputs": [],
   "source": [
    "# Imports\n",
    "import gzip # as some instance files may have been compressed\n",
    "\n",
    "# Re-import dependencies (in case earlier import was skipped)\n",
    "import numpy as np\n",
    "import matplotlib.pyplot as plt\n",
    "import pandas as pd\n",
    "\n",
    "from permutationsga.ga import (\n",
    "    ConfigurableGA,\n",
    "\n",
    "    RandomPermutationInitialization,\n",
    "    crossover_ox,\n",
    "    crossover_cx,\n",
    "    crossover_pmx,\n",
    "    TournamentSelection,\n",
    "    FunctionBasedRecombinator,\n",
    "    SequentialSelector,\n",
    "    generate_uniform_indices,\n",
    "    generate_sequential_indices,\n",
    "    generate_sequential_wrapping_indices,\n",
    "\n",
    "    RandomUniformInitialization,\n",
    "    DifferentialEvolutionRecombinator,\n",
    "    \n",
    "    \n",
    ")\n",
    "from permutationsga.problem import IdenticalDecoder, InvPermDecoder, RandomKeysDecoder\n",
    "\n",
    "from permutationsga.qap import QAP, read_qaplib\n",
    "from mutation_initialization.frequency_restricted_initialization import FrequencyRestrictedInitialization"
   ]
  },
  {
   "cell_type": "code",
   "execution_count": 2,
   "metadata": {},
   "outputs": [],
   "source": [
    "# The bur* instances are those that we will be using - note that we are only using 26 keys in this case.\n",
    "problem = QAP(*read_qaplib(\"./instances/qap/bur26a.dat\"))"
   ]
  },
  {
   "cell_type": "code",
   "execution_count": 4,
   "metadata": {},
   "outputs": [
    {
     "name": "stdout",
     "output_type": "stream",
     "text": [
      "type: 0, high frequency characters: [11  7 18  0 19 17  8 13  4]\n"
     ]
    }
   ],
   "source": [
    "distance_matrix = problem.A\n",
    "frequency_matrix = problem.B\n",
    "\n",
    "if distance_matrix[0][0] == 53:\n",
    "    type = 0\n",
    "if distance_matrix[0][0] == 37:\n",
    "    type = 1\n",
    "else:\n",
    "    Exception(\"The distance matrix is not as expected\")\n",
    "\n",
    "row_sum = np.sum(frequency_matrix, axis = 1)\n",
    "col_sum = np.sum(frequency_matrix, axis = 0)\n",
    "frequencies = np.add(row_sum, col_sum)\n",
    "high_frequency = np.argsort(frequencies)[-9:]\n",
    "print(f\"type: {type}, high frequency characters: {high_frequency}\")"
   ]
  },
  {
   "cell_type": "code",
   "execution_count": 5,
   "metadata": {},
   "outputs": [],
   "source": [
    "problem = IdenticalDecoder(problem) "
   ]
  },
  {
   "cell_type": "code",
   "execution_count": 7,
   "metadata": {},
   "outputs": [],
   "source": [
    "# GA - Permutation\n",
    "seed = 42\n",
    "population_size = 2**11\n",
    "rng = np.random.default_rng(seed=seed + 1)\n",
    "l = problem.get_length()\n",
    "\n",
    "\n",
    "crossover_fn = crossover_pmx; indices_gen = lambda: generate_sequential_indices(rng, l)\n",
    "# crossover_fn = crossover_pmx; indices_gen = lambda: generate_uniform_indices(rng, l, 0.5)\n",
    "# crossover_fn = crossover_ox; indices_gen = lambda: generate_sequential_indices(rng, l)\n",
    "# crossover_fn = crossover_cx; indices_gen = lambda: rng.integers(0, l - 1, size=1)\n",
    "# crossover_fn = crossover_cx; indices_gen = lambda: generate_uniform_indices(rng, l, 0.05)\n",
    "\n",
    "p = 1e-2\n",
    "initialization = FrequencyRestrictedInitialization(p, type, high_frequency)\n",
    "#initialization = RandomPermutationInitialization(l)\n",
    "parent_selection = SequentialSelector()\n",
    "recombinator = FunctionBasedRecombinator(\n",
    "    indices_gen,\n",
    "    crossover_fn,\n",
    "    parent_selection,\n",
    "    population_size * 2, # Note: double as we are including the previous population\n",
    "    include_what=\"population\"\n",
    ")\n",
    "selection = TournamentSelection()\n",
    "ga = ConfigurableGA(\n",
    "    seed, population_size, problem, initialization, recombinator, selection\n",
    ")\n"
   ]
  },
  {
   "cell_type": "code",
   "execution_count": 8,
   "metadata": {},
   "outputs": [],
   "source": [
    "ga.generation()\n"
   ]
  },
  {
   "cell_type": "code",
   "execution_count": 9,
   "metadata": {},
   "outputs": [
    {
     "name": "stdout",
     "output_type": "stream",
     "text": [
      "[24  9 21 15 10  5 23 22 14  6  0 18 13  7  8 11 19 17  4  3  2 20 25  1\n",
      " 16 12]\n"
     ]
    }
   ],
   "source": [
    "print(ga.population[0].e)"
   ]
  },
  {
   "cell_type": "code",
   "execution_count": 10,
   "metadata": {},
   "outputs": [
    {
     "data": {
      "text/plain": [
       "(5526271.0, 5966547.0)"
      ]
     },
     "execution_count": 10,
     "metadata": {},
     "output_type": "execute_result"
    }
   ],
   "source": [
    "# Current best & worst\n",
    "min(s.f for s in ga.population), max(s.f for s in ga.population)"
   ]
  },
  {
   "cell_type": "code",
   "execution_count": 11,
   "metadata": {},
   "outputs": [
    {
     "name": "stdout",
     "output_type": "stream",
     "text": [
      "[24  9 21 15 10  5 23 22 14  6  0 18 13  7  8 11 19 17  4  3  2 20 25  1\n",
      " 16 12]\n"
     ]
    }
   ],
   "source": [
    "print(ga.population[0].e)"
   ]
  },
  {
   "attachments": {},
   "cell_type": "markdown",
   "metadata": {},
   "source": [
    "Recombine & Select (repeat a few times to see how things evolve!):"
   ]
  },
  {
   "cell_type": "code",
   "execution_count": 12,
   "metadata": {},
   "outputs": [],
   "source": [
    "differences = []\n",
    "p = 1e-2\n",
    "seed = 42\n",
    "population_size = 2**11\n",
    "rng = np.random.default_rng(seed=seed + 1)\n",
    "l = problem.get_length()\n",
    "\n",
    "\n",
    "crossover_fn = crossover_pmx; indices_gen = lambda: generate_sequential_indices(rng, l)\n",
    "# crossover_fn = crossover_pmx; indices_gen = lambda: generate_uniform_indices(rng, l, 0.5)\n",
    "# crossover_fn = crossover_ox; indices_gen = lambda: generate_sequential_indices(rng, l)\n",
    "# crossover_fn = crossover_cx; indices_gen = lambda: rng.integers(0, l - 1, size=1)\n",
    "#crossover_fn = crossover_cx; indices_gen = lambda: generate_uniform_indices(rng, l, 0.05)\n",
    "\n",
    "initialization = FrequencyRestrictedInitialization(p, type, high_frequency)\n",
    "#initialization = RandomPermutationInitialization(l)\n",
    "parent_selection = SequentialSelector()\n",
    "recombinator = FunctionBasedRecombinator(\n",
    "    indices_gen,\n",
    "    crossover_fn,\n",
    "    parent_selection,\n",
    "    population_size * 2, # Note: double as we are including the previous population\n",
    "    include_what=\"population\"\n",
    ")\n",
    "selection = TournamentSelection()\n",
    "ga = ConfigurableGA(\n",
    "    seed, population_size, problem, initialization, recombinator, selection\n",
    ")\n",
    "while True:\n",
    "    ga.generation()\n",
    "    differences.append(max(s.f for s in ga.population) - min(s.f for s in ga.population))\n",
    "    if differences[-1] == 0:\n",
    "        break\n"
   ]
  },
  {
   "cell_type": "code",
   "execution_count": 13,
   "metadata": {},
   "outputs": [
    {
     "data": {
      "text/plain": [
       "[<matplotlib.lines.Line2D at 0x169dee9b0>]"
      ]
     },
     "execution_count": 13,
     "metadata": {},
     "output_type": "execute_result"
    },
    {
     "data": {
      "image/png": "[encoded data removed]",
      "text/plain": [
       "<Figure size 432x288 with 1 Axes>"
      ]
     },
     "metadata": {
      "needs_background": "light"
     },
     "output_type": "display_data"
    }
   ],
   "source": [
    "# plot the differences in plt.line\n",
    "plt.plot(differences)"
   ]
  },
  {
   "cell_type": "code",
   "execution_count": 14,
   "metadata": {},
   "outputs": [
    {
     "name": "stdout",
     "output_type": "stream",
     "text": [
      "38\n"
     ]
    }
   ],
   "source": [
    "print(len(differences))"
   ]
  },
  {
   "cell_type": "code",
   "execution_count": 15,
   "metadata": {},
   "outputs": [
    {
     "data": {
      "text/plain": [
       "(5438918.0, 5438918.0)"
      ]
     },
     "execution_count": 15,
     "metadata": {},
     "output_type": "execute_result"
    }
   ],
   "source": [
    "# Current best & worst\n",
    "min(s.f for s in ga.population), max(s.f for s in ga.population)"
   ]
  },
  {
   "cell_type": "code",
   "execution_count": 16,
   "metadata": {},
   "outputs": [
    {
     "name": "stdout",
     "output_type": "stream",
     "text": [
      "[ 1 22 12 10  6 20 23 25 14  3 19 11 17  7 13  0  8 18  4  2 21  9  5 15\n",
      " 16 24]\n"
     ]
    }
   ],
   "source": [
    "# print the genotype of the best\n",
    "print(ga.population[np.argmin(s.f for s in ga.population)].e)"
   ]
  },
  {
   "cell_type": "code",
   "execution_count": 30,
   "metadata": {},
   "outputs": [
    {
     "name": "stdout",
     "output_type": "stream",
     "text": [
      "[5440365.0, 5439144.0, 5438918.0, 5443472.0, 5435152.0, 5439666.0, 5439666.0]\n",
      "best results: 5435152.0 with p = 0.0001\n"
     ]
    }
   ],
   "source": [
    "# Tuning the p value\n",
    "p_values = [0.1, 0.05, 1e-2, 1e-3, 1e-4, 1e-5, 1e-6]\n",
    "results = []\n",
    "\n",
    "for p in p_values:\n",
    "    differences = []\n",
    "    seed = 42\n",
    "    population_size = 2**11\n",
    "    rng = np.random.default_rng(seed=seed + 1)\n",
    "    l = problem.get_length()\n",
    "\n",
    "\n",
    "    crossover_fn = crossover_pmx; indices_gen = lambda: generate_sequential_indices(rng, l)\n",
    "    # crossover_fn = crossover_pmx; indices_gen = lambda: generate_uniform_indices(rng, l, 0.5)\n",
    "    # crossover_fn = crossover_ox; indices_gen = lambda: generate_sequential_indices(rng, l)\n",
    "    # crossover_fn = crossover_cx; indices_gen = lambda: rng.integers(0, l - 1, size=1)\n",
    "    #crossover_fn = crossover_cx; indices_gen = lambda: generate_uniform_indices(rng, l, 0.05)\n",
    "\n",
    "    initialization = FrequencyRestrictedInitialization(p, type, high_frequency)\n",
    "    parent_selection = SequentialSelector()\n",
    "    recombinator = FunctionBasedRecombinator(\n",
    "        indices_gen,\n",
    "        crossover_fn,\n",
    "        parent_selection,\n",
    "        population_size * 2, # Note: double as we are including the previous population\n",
    "        include_what=\"population\"\n",
    "    )\n",
    "    selection = TournamentSelection()\n",
    "    ga = ConfigurableGA(\n",
    "        seed, population_size, problem, initialization, recombinator, selection\n",
    "    )\n",
    "    while True:\n",
    "        ga.generation()\n",
    "        #print(f\"probability: {p}, {min(s.f for s in ga.population)}\")\n",
    "        differences.append(max(s.f for s in ga.population) - min(s.f for s in ga.population))\n",
    "        if differences[-1] == 0:\n",
    "            break\n",
    "    \n",
    "    results.append(min(s.f for s in ga.population))\n",
    "    \n",
    "print(results)\n",
    "print(f\"best results: {min(results)} with p = {p_values[np.argmin(results)]}\")"
   ]
  },
  {
   "cell_type": "code",
   "execution_count": 31,
   "metadata": {},
   "outputs": [
    {
     "name": "stdout",
     "output_type": "stream",
     "text": [
      "Random Permutation Initialization\n",
      "\tBest:  5439672.0                                                                                   \n",
      "\tWorst: 5439672.0\n",
      "\tDiff:  0.0\n",
      "\n",
      "Customize Initialization\n",
      "\tBest:  5440310.0                                                                                   \n",
      "\tWorst: 5440310.0\n",
      "\tDiff:  0.0\n",
      "\n"
     ]
    }
   ],
   "source": [
    "from configs        import EA_Config, Exp_Config, rng, l\n",
    "from run_experiment import run_experiments, round_to_multiple\n",
    "from math       import ceil\n",
    "\n",
    "p = 0.0001\n",
    "EA_Config(crossover_fn=crossover_pmx, indices_gen=lambda: generate_sequential_indices(rng, l), initialization=RandomPermutationInitialization(l))\n",
    "EA_Config(crossover_fn=crossover_pmx, indices_gen=lambda: generate_sequential_indices(rng, l), initialization=FrequencyRestrictedInitialization(p, type, high_frequency))\n",
    "\n",
    "\n",
    "setups = {\n",
    "    \"Random Permutation Initialization\"    : EA_Config(crossover_fn=crossover_pmx, indices_gen=lambda: generate_sequential_indices(rng, l), initialization=RandomPermutationInitialization(l))\n",
    ",\n",
    "    \"Customize Initialization\"       : EA_Config(crossover_fn=crossover_pmx, indices_gen=lambda: generate_sequential_indices(rng, l), initialization=FrequencyRestrictedInitialization(p, type, high_frequency))\n",
    "}\n",
    "\n",
    "exp_cfg = Exp_Config(\"crossover_indices\")\n",
    "\n",
    "all_best_overtime, all_worst_overtime, all_iterations, all_total_times, all_iter_times = run_experiments(setups, exp_cfg)\n",
    "\n",
    "colors = [\"orange\", \"blue\"]\n",
    "\n",
    "ncols = 2\n",
    "nrows = 1\n",
    "\n",
    "alltime_worst   = max([max(x) for x in all_worst_overtime])\n",
    "alltime_best    = min([min(x) for x in all_best_overtime])\n",
    "\n"
   ]
  },
  {
   "cell_type": "code",
   "execution_count": 22,
   "metadata": {},
   "outputs": [
    {
     "data": {
      "image/png": "[encoded data removed]",
      "text/plain": [
       "<Figure size 936x576 with 2 Axes>"
      ]
     },
     "metadata": {
      "needs_background": "light"
     },
     "output_type": "display_data"
    }
   ],
   "source": [
    "ylim_min = round_to_multiple(alltime_best,  100000, int)\n",
    "ylim_max = round_to_multiple(alltime_worst, 100000, ceil)\n",
    "\n",
    "\n",
    "fig, axes = plt.subplots(nrows=nrows, ncols=ncols, figsize=(13, 8))\n",
    "\n",
    "\n",
    "for i in range(ncols * nrows - len(setups)):\n",
    "    i += len(setups)\n",
    "\n",
    "    fig.delaxes(axes[i // ncols, i % ncols])\n",
    "\n",
    "for i, (setup_name, best_overtime, worst_overtime, color) in enumerate(zip(setups.keys(), all_best_overtime, all_worst_overtime, colors)):\n",
    "    ax = axes[i]\n",
    "    \n",
    "    ax.plot(best_overtime,  color=color)\n",
    "    ax.plot(worst_overtime, color=color)\n",
    "    ax.fill_between(np.arange(len(best_overtime)), best_overtime, worst_overtime, color=color, alpha=0.3)\n",
    "\n",
    "    ax.set_ylabel(\"Average Fitness\")\n",
    "    ax.set_xlabel(\"Number of iterations\")\n",
    "    ax.set_xlim(0, exp_cfg.max_gen)\n",
    "    ax.set_ylim(ylim_min, ylim_max)\n",
    "    ax.set_title(setup_name)\n",
    "\n",
    "plt.suptitle(f\"Average Fitnes of best and worst individual over iterations for different crossovers over {exp_cfg.n_experiments} runs\")\n",
    "fig.tight_layout()\n",
    "plt.show()"
   ]
  }
 ],
 "metadata": {
  "kernelspec": {
   "display_name": "ea-course-permutations-YQU5Ux92-py3.10",
   "language": "python",
   "name": "python3"
  },
  "language_info": {
   "codemirror_mode": {
    "name": "ipython",
    "version": 3
   },
   "file_extension": ".py",
   "mimetype": "text/x-python",
   "name": "python",
   "nbconvert_exporter": "python",
   "pygments_lexer": "ipython3",
   "version": "3.10.8"
  },
  "orig_nbformat": 4,
  "vscode": {
   "interpreter": {
    "hash": "fdc806174fe954f27f1cbf64478bf5a0d764373465811a3e3e07ed10a4af0377"
   }
  }
 },
 "nbformat": 4,
 "nbformat_minor": 2
}
